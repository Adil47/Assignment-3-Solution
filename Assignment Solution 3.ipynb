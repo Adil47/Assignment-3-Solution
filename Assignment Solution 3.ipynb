{
 "cells": [
  {
   "cell_type": "code",
   "execution_count": 18,
   "metadata": {},
   "outputs": [
    {
     "name": "stdout",
     "output_type": "stream",
     "text": [
      "enter any number..6\n",
      "number of occurrences of number 6 is 2\n"
     ]
    }
   ],
   "source": [
    "# Question # 1\n",
    "numbers=[1,2,3,4,5,6,4,5,6,7,3,4,3,4,2,2,3,4,8,9,0]\n",
    "num=int(input(\"enter any number..\"))\n",
    "list(numbers)\n",
    "count=0;\n",
    "for i in range(0,len(numbers),1):\n",
    "    if numbers[i]==num:\n",
    "        count+=1;\n",
    "print(\"number of occurrences of number \"+str(num)+\" is \"+str(count))"
   ]
  },
  {
   "cell_type": "code",
   "execution_count": 16,
   "metadata": {},
   "outputs": [
    {
     "name": "stdout",
     "output_type": "stream",
     "text": [
      "com\n",
      "org\n",
      "net\n",
      "in\n"
     ]
    }
   ],
   "source": [
    "# Question # 2\n",
    "MyDomains=[\"www.zframez.com\", \"www.wikipedia.org\", \"www.asp.net\", \"www.abcd.in\"]\n",
    "for i in range(0,4):\n",
    "    print(MyDomains[i].split(\".\")[2])\n"
   ]
  },
  {
   "cell_type": "code",
   "execution_count": 22,
   "metadata": {},
   "outputs": [
    {
     "name": "stdout",
     "output_type": "stream",
     "text": [
      "enter any number to find factorial...5\n",
      "factorial of given number is  120\n"
     ]
    }
   ],
   "source": [
    "# Question # 3\n",
    "num2=int(input(\"enter any number to find factorial...\"))\n",
    "fac=1;\n",
    "for i in range(1,num2+1,1):\n",
    "    fac*=i\n",
    "print(\"factorial of given number is \",fac)"
   ]
  },
  {
   "cell_type": "code",
   "execution_count": 41,
   "metadata": {},
   "outputs": [
    {
     "name": "stdout",
     "output_type": "stream",
     "text": [
      "Mr. Muhammad Ali,\n",
      "\tcordially invite you for dinner party The honour of your presence is requested.\n",
      "On june 30th \n",
      "At 9:00 pm in our garden \n",
      "Thanks in advance\n",
      "\n",
      "Mr. Malik Inayat,\n",
      "\tcordially invite you for dinner party The honour of your presence is requested.\n",
      "On june 30th \n",
      "At 9:00 pm in our garden \n",
      "Thanks in advance\n",
      "\n",
      "Mr. Muhammad Noman,\n",
      "\tcordially invite you for dinner party The honour of your presence is requested.\n",
      "On june 30th \n",
      "At 9:00 pm in our garden \n",
      "Thanks in advance\n",
      "\n"
     ]
    }
   ],
   "source": [
    "# Question # 4(a)\n",
    "Names=[\"Muhammad Ali\",\"Malik Inayat\",\"Muhammad Noman\"]\n",
    "for i in range(0,len(Names)):\n",
    "    print(\"Mr. \"+Names[i]+\",\\n\\tcordially invite you for dinner party The honour of your presence is requested.\")\n",
    "    print(\"On june 30th \\nAt 9:00 pm in our garden \\nThanks in advance\\n\")\n"
   ]
  },
  {
   "cell_type": "code",
   "execution_count": 42,
   "metadata": {},
   "outputs": [
    {
     "name": "stdout",
     "output_type": "stream",
     "text": [
      "Mr. Muhammad Ali can not have dinner with us\n"
     ]
    }
   ],
   "source": [
    "# QUESTION # 4(b)\n",
    "print(\"Mr. \"+Names[0]+\" can not have dinner with us\")"
   ]
  },
  {
   "cell_type": "code",
   "execution_count": 43,
   "metadata": {
    "scrolled": true
   },
   "outputs": [
    {
     "name": "stdout",
     "output_type": "stream",
     "text": [
      "Mr. Sufi,\n",
      "\tcordially invite you for dinner party The honour of your presence is requested.\n",
      "On june 30th \n",
      "At 9:00 pm in our garden \n",
      "Thanks in advance\n",
      "\n",
      "Mr. Malik Inayat,\n",
      "\tcordially invite you for dinner party The honour of your presence is requested.\n",
      "On june 30th \n",
      "At 9:00 pm in our garden \n",
      "Thanks in advance\n",
      "\n",
      "Mr. Muhammad Noman,\n",
      "\tcordially invite you for dinner party The honour of your presence is requested.\n",
      "On june 30th \n",
      "At 9:00 pm in our garden \n",
      "Thanks in advance\n",
      "\n"
     ]
    }
   ],
   "source": [
    "Names[0]=\"Sufi\"\n",
    "for i in range(0,len(Names)):\n",
    "    print(\"Mr. \"+Names[i]+\",\\n\\tcordially invite you for dinner party The honour of your presence is requested.\")\n",
    "    print(\"On june 30th \\nAt 9:00 pm in our garden \\nThanks in advance\\n\")"
   ]
  },
  {
   "cell_type": "code",
   "execution_count": 44,
   "metadata": {},
   "outputs": [
    {
     "name": "stdout",
     "output_type": "stream",
     "text": [
      "Dear Friends,\n",
      "\t i am vary happy to say that i just found a bigger dinner table, so now more space is available\n"
     ]
    }
   ],
   "source": [
    "# QUESTION # 4(c)\n",
    "print(\"Dear Friends,\\n\\t i am vary happy to say that i just found a bigger dinner table, so now more space is available\")"
   ]
  },
  {
   "cell_type": "code",
   "execution_count": 45,
   "metadata": {},
   "outputs": [],
   "source": [
    "Names.insert(0,\"Hasnain\")\n",
    "Names.insert(2,\"Tariq Khan Lodhi\")\n",
    "Names.append(\"Sameer Saddiqui\")\n"
   ]
  },
  {
   "cell_type": "code",
   "execution_count": 47,
   "metadata": {
    "scrolled": true
   },
   "outputs": [
    {
     "name": "stdout",
     "output_type": "stream",
     "text": [
      "Mr. Hasnain,\n",
      "\tcordially invite you for dinner party The honour of your presence is requested.\n",
      "On june 30th \n",
      "At 9:00 pm in our garden \n",
      "Thanks in advance\n",
      "\n",
      "Mr. Sufi,\n",
      "\tcordially invite you for dinner party The honour of your presence is requested.\n",
      "On june 30th \n",
      "At 9:00 pm in our garden \n",
      "Thanks in advance\n",
      "\n",
      "Mr. Tariq Khan Lodhi,\n",
      "\tcordially invite you for dinner party The honour of your presence is requested.\n",
      "On june 30th \n",
      "At 9:00 pm in our garden \n",
      "Thanks in advance\n",
      "\n",
      "Mr. Malik Inayat,\n",
      "\tcordially invite you for dinner party The honour of your presence is requested.\n",
      "On june 30th \n",
      "At 9:00 pm in our garden \n",
      "Thanks in advance\n",
      "\n",
      "Mr. Muhammad Noman,\n",
      "\tcordially invite you for dinner party The honour of your presence is requested.\n",
      "On june 30th \n",
      "At 9:00 pm in our garden \n",
      "Thanks in advance\n",
      "\n",
      "Mr. Sameer Saddiqui,\n",
      "\tcordially invite you for dinner party The honour of your presence is requested.\n",
      "On june 30th \n",
      "At 9:00 pm in our garden \n",
      "Thanks in advance\n",
      "\n"
     ]
    }
   ],
   "source": [
    "for i in range(0,len(Names)):\n",
    "    print(\"Mr. \"+Names[i]+\",\\n\\tcordially invite you for dinner party The honour of your presence is requested.\")\n",
    "    print(\"On june 30th \\nAt 9:00 pm in our garden \\nThanks in advance\\n\")"
   ]
  },
  {
   "cell_type": "code",
   "execution_count": 59,
   "metadata": {},
   "outputs": [
    {
     "name": "stdout",
     "output_type": "stream",
     "text": [
      "['Surah', 'Surah', 'Surah']\n",
      "length of list is  3\n"
     ]
    }
   ],
   "source": [
    "# Question # 5\n",
    "str=\"Surah | who believe in the unseen, Surah Are steadfast in prayer. And spend Surah out of what we have provided for them\";\n",
    "lst=str.split(' ')\n",
    "lst2=[]\n",
    "for i in lst:\n",
    "    if i==\"Surah\":\n",
    "        lst2.append(i)\n",
    "print(lst2)\n",
    "print(\"length of list is \",len(lst2))\n",
    "    "
   ]
  },
  {
   "cell_type": "code",
   "execution_count": 67,
   "metadata": {},
   "outputs": [
    {
     "name": "stdout",
     "output_type": "stream",
     "text": [
      "City Karachi Exist at  0  Index\n"
     ]
    }
   ],
   "source": [
    "# Question # 6\n",
    "cities=[\"Karachi\",\"hyderabad\",\"islamabad\"]\n",
    "IsExist=False\n",
    "for i in range(0,len(cities)):\n",
    "    if cities[i]==\"Karachi\":\n",
    "        print(\"City Karachi Exist at \",i,\" Index\")\n",
    "        IsExist=True\n",
    "if not IsExist:\n",
    "    print(\"City Karachi not exist in list\")"
   ]
  }
 ],
 "metadata": {
  "celltoolbar": "Edit Metadata",
  "kernelspec": {
   "display_name": "Python 3",
   "language": "python",
   "name": "python3"
  },
  "language_info": {
   "codemirror_mode": {
    "name": "ipython",
    "version": 3
   },
   "file_extension": ".py",
   "mimetype": "text/x-python",
   "name": "python",
   "nbconvert_exporter": "python",
   "pygments_lexer": "ipython3",
   "version": "3.7.3"
  }
 },
 "nbformat": 4,
 "nbformat_minor": 2
}
